{
 "cells": [
  {
   "cell_type": "markdown",
   "metadata": {},
   "source": [
    "https://www.geeksforgeeks.org/python-list-exercise/"
   ]
  },
  {
   "cell_type": "code",
   "execution_count": 1,
   "metadata": {},
   "outputs": [
    {
     "name": "stdout",
     "output_type": "stream",
     "text": [
      "[5, 2, 3, 4, 1]\n"
     ]
    }
   ],
   "source": [
    "# Python program to interchange first and last elements in a list\n",
    "\n",
    "list1 = [1, 2, 3, 4, 5]\n",
    "\n",
    "temp = list1[0]\n",
    "list1[0] = list1[-1]\n",
    "list1[-1] = temp\n",
    "\n",
    "print(list1)\n"
   ]
  },
  {
   "cell_type": "code",
   "execution_count": 2,
   "metadata": {},
   "outputs": [
    {
     "name": "stdout",
     "output_type": "stream",
     "text": [
      "[19, 65, 23, 90]\n"
     ]
    }
   ],
   "source": [
    "#Python Program to Swap Two Elements in a List\n",
    "\n",
    "List2 = [23, 65, 19, 90]\n",
    "post1, post2 = 0, 2\n",
    "temp = List2[post1]\n",
    "List2[post1] = List2[post2]\n",
    "List2[post2] = temp\n",
    "print(List2)"
   ]
  },
  {
   "cell_type": "code",
   "execution_count": 3,
   "metadata": {},
   "outputs": [
    {
     "name": "stdout",
     "output_type": "stream",
     "text": [
      "[1, 2, 2, 2, 2, 2, 3, 4, 4, 5, 43]\n",
      "1\n",
      "43\n"
     ]
    }
   ],
   "source": [
    "# Maximum and Min of values in list\n",
    "\n",
    "list3 = [1,2,2,3,4,43,2,2,2,4,5]\n",
    "\n",
    "list3.sort()\n",
    "print(list3)\n",
    "\n",
    "# bubble sort\n",
    "# for i in range(len(list3)):\n",
    "#     for j in range(len(list3) -i -1):\n",
    "#         if list3[j] >list3[j+1]: \n",
    "#             temp = list3[j]\n",
    "#             list3[j] = list3[j+1]\n",
    "#             list3[j+1] = temp\n",
    "\n",
    "print(list3[0])\n",
    "print(list3[-1])"
   ]
  },
  {
   "cell_type": "code",
   "execution_count": 4,
   "metadata": {},
   "outputs": [
    {
     "name": "stdout",
     "output_type": "stream",
     "text": [
      "4\n"
     ]
    }
   ],
   "source": [
    "# if element is present in the list or not\n",
    "\n",
    "list4 = [1, 2, 2, 3, 35, 3, 46, 4, 65, 75, 7, 57]\n",
    "n = 35\n",
    "\n",
    "for i in range(len(list4)):\n",
    "    if n == list4[i]:\n",
    "        print(i)\n",
    "\n"
   ]
  },
  {
   "cell_type": "code",
   "execution_count": 5,
   "metadata": {},
   "outputs": [
    {
     "name": "stdout",
     "output_type": "stream",
     "text": [
      "1\n"
     ]
    }
   ],
   "source": [
    "# count occurance of ele in list\n",
    "\n",
    "count = 0\n",
    "list5 = [1,2,3,4,5,2,3,43,99]\n",
    "ele = 99\n",
    "index = 0;\n",
    "\n",
    "for i in list5:\n",
    "    if (ele == i):\n",
    "       count+=1\n",
    "print(count)\n"
   ]
  },
  {
   "cell_type": "code",
   "execution_count": 6,
   "metadata": {},
   "outputs": [
    {
     "name": "stdout",
     "output_type": "stream",
     "text": [
      "3.1\n"
     ]
    }
   ],
   "source": [
    "#sum and avg \n",
    "\n",
    "list6=[2,3,4,4,5,2,2,2,3,4]\n",
    "count =len(list6)\n",
    "sum = 0\n",
    "for i in list6:\n",
    "    sum+=i\n",
    "print(sum/count)\n",
    "    "
   ]
  },
  {
   "cell_type": "code",
   "execution_count": 7,
   "metadata": {},
   "outputs": [
    {
     "name": "stdout",
     "output_type": "stream",
     "text": [
      "142416\n"
     ]
    }
   ],
   "source": [
    "# multilpe all the nums in list\n",
    "\n",
    "list7 = [1,2,2,3,3,43,2,23,2]\n",
    "\n",
    "mult = 1\n",
    "for i in list7:\n",
    "    mult*=i\n",
    "    \n",
    "print(mult)\n"
   ]
  }
 ],
 "metadata": {
  "kernelspec": {
   "display_name": "Python 3",
   "language": "python",
   "name": "python3"
  },
  "language_info": {
   "codemirror_mode": {
    "name": "ipython",
    "version": 3
   },
   "file_extension": ".py",
   "mimetype": "text/x-python",
   "name": "python",
   "nbconvert_exporter": "python",
   "pygments_lexer": "ipython3",
   "version": "3.11.3"
  }
 },
 "nbformat": 4,
 "nbformat_minor": 2
}
