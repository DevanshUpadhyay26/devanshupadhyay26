{
 "cells": [
  {
   "cell_type": "code",
   "execution_count": 15,
   "metadata": {},
   "outputs": [],
   "source": [
    "list1 = ['Monday', 'Tuesday', 'Wednesday', 'Thursday', 'Friday', 'Saturday', 'Sunday']"
   ]
  },
  {
   "cell_type": "code",
   "execution_count": 12,
   "metadata": {},
   "outputs": [
    {
     "name": "stdout",
     "output_type": "stream",
     "text": [
      "Monday-Tuesday-Wednesday-Thursday-Friday-Saturday-Sunday\n"
     ]
    }
   ],
   "source": [
    "# list1 = \"-\".join(list1)\n",
    "print(list1) #monday - tues"
   ]
  },
  {
   "cell_type": "code",
   "execution_count": 13,
   "metadata": {},
   "outputs": [
    {
     "name": "stdout",
     "output_type": "stream",
     "text": [
      "M-o-n-d-a-y---T-u-e-s-d-a-y---W-e-d-n-e-s-d-a-y---T-h-u-r-s-d-a-y---F-r-i-d-a-y---S-a-t-u-r-d-a-y---S-u-n-d-a-y\n"
     ]
    }
   ],
   "source": [
    "# print( \"-\".join(list1)) "
   ]
  },
  {
   "cell_type": "code",
   "execution_count": 16,
   "metadata": {},
   "outputs": [
    {
     "name": "stdout",
     "output_type": "stream",
     "text": [
      "Monday\n",
      "Tuesday\n",
      "Wednesday\n",
      "Thursday\n",
      "Friday\n",
      "Saturday\n",
      "Sunday\n"
     ]
    }
   ],
   "source": [
    "for i in list1:\n",
    "    print(i)"
   ]
  },
  {
   "cell_type": "code",
   "execution_count": 17,
   "metadata": {},
   "outputs": [
    {
     "name": "stdout",
     "output_type": "stream",
     "text": [
      "0 Monday\n",
      "1 Tuesday\n",
      "2 Wednesday\n",
      "3 Thursday\n",
      "4 Friday\n",
      "5 Saturday\n",
      "6 Sunday\n"
     ]
    }
   ],
   "source": [
    "for i in range(len(list1)):\n",
    "    print(i, list1[i])"
   ]
  },
  {
   "cell_type": "code",
   "execution_count": 49,
   "metadata": {},
   "outputs": [
    {
     "name": "stdout",
     "output_type": "stream",
     "text": [
      "[]\n",
      "[4]\n",
      "[2, 4]\n",
      "[2, 4, [2, 3, 3, 4, 4]]\n"
     ]
    }
   ],
   "source": [
    "list2= list() # Empty List\n",
    "print(list2)\n",
    "\n",
    "list2.append(4)\n",
    "print(list2)\n",
    "\n",
    "list2.insert(0, 2)\n",
    "print(list2)\n",
    "\n",
    "list3 = [2,3,3,4,4]\n",
    "list2.extend(list3)\n",
    "print(list2)\n",
    "# OR\n",
    "list2.append(list3)\n",
    "print(list2)\n"
   ]
  },
  {
   "cell_type": "code",
   "execution_count": 57,
   "metadata": {},
   "outputs": [
    {
     "name": "stdout",
     "output_type": "stream",
     "text": [
      "[9, 1]\n",
      "[2, 3, 64, 5, 5, 4, 3, 2, 1, 9]\n",
      "[9, 2, 4]\n"
     ]
    }
   ],
   "source": [
    "# Slicing\n",
    "\n",
    "\n",
    "players_runs = [9,1,2,3,4,5,5,64,3,2]\n",
    "print(players_runs[0:2])\n",
    "print(players_runs[::-1])\n",
    "print(players_runs[0:5:2])\n",
    "\n"
   ]
  },
  {
   "cell_type": "code",
   "execution_count": 58,
   "metadata": {},
   "outputs": [
    {
     "name": "stdout",
     "output_type": "stream",
     "text": [
      "[9, 2, 3, 4, 5, 5, 64, 3, 2]\n",
      "[2, 3, 4, 5, 5, 64, 3, 2]\n",
      "[]\n"
     ]
    }
   ],
   "source": [
    "players_runs.remove(1)\n",
    "print(players_runs)\n",
    "\n",
    "players_runs.pop(0)\n",
    "print(players_runs)\n",
    "\n",
    "players_runs.clear()\n",
    "print(players_runs)"
   ]
  },
  {
   "cell_type": "markdown",
   "metadata": {},
   "source": [
    "## Questions from GPT"
   ]
  },
  {
   "cell_type": "code",
   "execution_count": 62,
   "metadata": {},
   "outputs": [
    {
     "name": "stdout",
     "output_type": "stream",
     "text": [
      "[]\n",
      "[1, 2, 3]\n",
      "[1, 2, 69, 3]\n"
     ]
    }
   ],
   "source": [
    "# Appending and Inserting Values: Write a Python program that initializes an empty list. Append three different values of your choice into the list. Then insert a value at the second position in the list. Print the final list after each operation.\n",
    "\n",
    "players = list()\n",
    "print(players)\n",
    "players.append(1)\n",
    "players.append(2)\n",
    "players.append(3)\n",
    "print(players)\n",
    "players.insert(2, 69)\n",
    "print(players)\n"
   ]
  },
  {
   "cell_type": "code",
   "execution_count": 63,
   "metadata": {},
   "outputs": [
    {
     "name": "stdout",
     "output_type": "stream",
     "text": [
      "[1, 2, 3, 'a', 'b', 'c']\n",
      "['a', 'b', 'c']\n"
     ]
    }
   ],
   "source": [
    "#Create two lists, list1 = [1, 2, 3] and list2 = ['a', 'b', 'c']. Write a Python program to extend list1 with list2. After extending, print both list1 and list2 to see if both lists have changed or only list1.\n",
    "\n",
    "listOne = [1, 2, 3] \n",
    "listTwo = ['a', 'b', 'c']\n",
    "\n",
    "listOne.extend(listTwo)\n",
    "print(listOne)\n",
    "print(listTwo)"
   ]
  },
  {
   "cell_type": "code",
   "execution_count": 68,
   "metadata": {},
   "outputs": [
    {
     "name": "stdout",
     "output_type": "stream",
     "text": [
      "[10, 20, 30, 40]\n",
      "[80, 70, 60, 50, 40, 30, 20, 10]\n",
      "[60, 40, 20]\n"
     ]
    }
   ],
   "source": [
    "# Slicing Lists:Given a list nums = [10, 20, 30, 40, 50, 60, 70, 80], write Python code to print: The first three elements of the list.The list in reverse order.Every second element from the list starting from the second element.\n",
    "\n",
    "nums = [10, 20, 30, 40, 50, 60, 70, 80]\n",
    "print(nums[0:4])\n",
    "\n",
    "nums.sort(reverse=True)\n",
    "print(nums)\n",
    "\n",
    "print(nums[2::2])"
   ]
  },
  {
   "cell_type": "code",
   "execution_count": 69,
   "metadata": {},
   "outputs": [
    {
     "name": "stdout",
     "output_type": "stream",
     "text": [
      "[1, 2, 4, 5, 6]\n"
     ]
    }
   ],
   "source": [
    "# Removing Elements from Lists: Write a Python program that creates a list of numbers [1, 2, 3, 4, 5, 6, 7]. Remove the number 3 from the list using the remove() method and pop the last element using the pop() method. Print the list after each operation.\n",
    "\n",
    "runs = [1, 2, 3, 4, 5, 6, 7]\n",
    "\n",
    "runs.remove(3)\n",
    "runs.pop(-1)\n",
    "print(runs)\n"
   ]
  },
  {
   "cell_type": "code",
   "execution_count": 71,
   "metadata": {},
   "outputs": [
    {
     "name": "stdout",
     "output_type": "stream",
     "text": [
      "Python\n",
      "123\n",
      "45.67\n",
      "False\n",
      "Python\n",
      "123\n",
      "45.67\n",
      "False\n"
     ]
    }
   ],
   "source": [
    "# Iterating Over Lists:\n",
    "# Write a Python program to iterate over the list data = [\"Python\", 123, 45.67, False] in two ways:\n",
    "\n",
    "# Using a for loop to directly access each element.\n",
    "# Using a for loop with range() and len() to iterate over the list by index.\n",
    "\n",
    "lisss = [\"Python\", 123, 45.67, False]\n",
    "\n",
    "\n",
    "#1\n",
    "for i in lisss:\n",
    "    print(i)\n",
    "\n",
    "#2\n",
    "for i in range(len(lisss)):\n",
    "    print(lisss[i])\n"
   ]
  },
  {
   "cell_type": "code",
   "execution_count": 72,
   "metadata": {},
   "outputs": [
    {
     "name": "stdout",
     "output_type": "stream",
     "text": [
      "[2, 12, 4, 14, 6, 8, 10]\n"
     ]
    }
   ],
   "source": [
    "# Updating List Elements:\n",
    "# Initialize a list list1 = [2, 4, 6, 8]. Write a Python program to:\n",
    "\n",
    "# Append the value 10 to the list.\n",
    "# Insert the value 12 at index 1.\n",
    "# Change the value at index 3 to 14.\n",
    "# Print the final list after each modification.\n",
    "\n",
    "\n",
    "pp = [2, 4, 6, 8]\n",
    "pp.append(10)\n",
    "pp.insert(1, 12)\n",
    "pp.insert(3,14)\n",
    "\n",
    "print(pp)"
   ]
  }
 ],
 "metadata": {
  "kernelspec": {
   "display_name": "Python 3",
   "language": "python",
   "name": "python3"
  },
  "language_info": {
   "codemirror_mode": {
    "name": "ipython",
    "version": 3
   },
   "file_extension": ".py",
   "mimetype": "text/x-python",
   "name": "python",
   "nbconvert_exporter": "python",
   "pygments_lexer": "ipython3",
   "version": "3.11.3"
  }
 },
 "nbformat": 4,
 "nbformat_minor": 2
}
