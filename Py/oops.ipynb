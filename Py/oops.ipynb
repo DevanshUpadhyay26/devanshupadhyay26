{
 "cells": [
  {
   "cell_type": "code",
   "execution_count": 6,
   "metadata": {},
   "outputs": [
    {
     "name": "stdout",
     "output_type": "stream",
     "text": [
      "Dev\n",
      "abc\n"
     ]
    }
   ],
   "source": [
    "class sum:\n",
    "    name1 = \"abc\"\n",
    "\n",
    "\n",
    "\n",
    "\n",
    "    def __init__(self,name) -> None:\n",
    "        self.name = name \n",
    "\n",
    "obj = sum(\"Dev\")\n",
    "class_memeber = obj.__class__.name1\n",
    "print(obj.name)\n",
    "print(class_memeber)"
   ]
  },
  {
   "cell_type": "code",
   "execution_count": 15,
   "metadata": {},
   "outputs": [
    {
     "name": "stdout",
     "output_type": "stream",
     "text": [
      "('BVDU', 10, 2) ('MIT', 1, 100) "
     ]
    }
   ],
   "source": [
    "class College:\n",
    "    name = \"\"\n",
    "    rank = 0\n",
    "    noOfPlacements = 0\n",
    "\n",
    "    def __init__(self, name, rank, noOfPlacements):\n",
    "        self.name = name\n",
    "        self.rank = rank\n",
    "        self.noOfPlacements = noOfPlacements\n",
    "\n",
    "    def getter(self):\n",
    "        return self.name, self.rank, self.noOfPlacements\n",
    "\n",
    "\n",
    "obj1 = College(\"BVDU\", 10, 2)\n",
    "obj2 = College(\"MIT\", 1, 100)\n",
    "\n",
    "\n",
    "\n",
    "print(obj1.getter(), obj2.getter(), end=\" \")"
   ]
  },
  {
   "cell_type": "code",
   "execution_count": 21,
   "metadata": {},
   "outputs": [],
   "source": [
    "# INHERITANCE\n",
    "\n",
    "#SINGLE\n",
    "class Collge:\n",
    "    pass\n",
    "class Department(Collge):\n",
    "    pass\n",
    "\n",
    "#Multiple\n",
    "\n",
    "class Dad:\n",
    "    pass\n",
    "class Mom:\n",
    "    pass\n",
    "class Son(Dad, Mom):\n",
    "    pass\n",
    "\n",
    "\n",
    "# MultiLevel\n",
    "\n",
    "\n",
    "class Grandparents:\n",
    "    pass\n",
    "class Parents(Grandparents):\n",
    "    pass\n",
    "class Child(Parents):\n",
    "    pass\n",
    "\n",
    "\n",
    "#Hybrid\n",
    "class Parent1:\n",
    "    pass\n",
    "\n",
    "class Parent2:\n",
    "    pass\n",
    "\n",
    "class Child1(Parent1):\n",
    "    pass\n",
    "\n",
    "class Child2(Parent1, Parent2):\n",
    "    pass\n",
    "\n"
   ]
  },
  {
   "cell_type": "code",
   "execution_count": 26,
   "metadata": {},
   "outputs": [
    {
     "name": "stdout",
     "output_type": "stream",
     "text": [
      "Devansh 101 21\n",
      "Trupti 201 999\n"
     ]
    }
   ],
   "source": [
    "class Person:\n",
    "    def __init__(self, name, idNo : int, age):\n",
    "        self.name = name\n",
    "        self.idNo = idNo\n",
    "        self.age = age\n",
    "\n",
    "class Student(Person):\n",
    "    def __init__(self, name, idNo: int, age):\n",
    "        super().__init__(name, idNo, age)\n",
    "\n",
    "    def getName(self):\n",
    "        return self.name\n",
    "\n",
    "    def getIdNo(self):\n",
    "        return self.idNo\n",
    "\n",
    "    def getAge(self):\n",
    "        return self.age\n",
    "\n",
    "class Teacher(Person):\n",
    "    def __init__(self, name, idNo: int, age):\n",
    "        super().__init__(name, idNo, age)\n",
    "    def getName(self):\n",
    "        return self.name\n",
    "    def getIdNo(self):\n",
    "        return self.idNo\n",
    "    def getAge(self):\n",
    "        return self.age\n",
    "\n",
    "\n",
    "objS1 = Student(\"Devansh\", 101, 21)\n",
    "objS2 = Student(\"Aryan\", 102, 21)\n",
    "\n",
    "objT1 = Teacher(\"Trupti\", 201, 999)\n",
    "objT2 = Teacher(\"Vidya\", 202, 10111)\n",
    "\n",
    "print(objS1.getName(), objS1.getIdNo(), objS1.getAge())\n",
    "print(objT1.getName(), objT1.getIdNo(), objT1.getAge())"
   ]
  },
  {
   "cell_type": "code",
   "execution_count": 32,
   "metadata": {},
   "outputs": [
    {
     "name": "stdout",
     "output_type": "stream",
     "text": [
      "University has Different Departments\n",
      "Engineering and Tech are Most popular\n",
      "Medical and bio are most important\n",
      "University has Different Departments\n",
      "This is Engineering and Tech Stream\n",
      "University has Different Departments\n",
      "This is MBBS Stream\n"
     ]
    }
   ],
   "source": [
    "# Method Overriding \n",
    "# Run time poly\n",
    "\n",
    "\n",
    "class University:\n",
    "    def __dept__(self):\n",
    "        print(\"University has Different Departments\")\n",
    "    def enggTech(self):\n",
    "        print(\"Engineering and Tech are Most popular\")\n",
    "    def medicalBio(self):\n",
    "        print(\"Medical and bio are most important\")\n",
    "\n",
    "\n",
    "class BTech(University):\n",
    "    def enggTech(self):\n",
    "        print(\"This is Engineering and Tech Stream\")\n",
    "\n",
    "class MBBS(University):\n",
    "    def medicalBio(self):\n",
    "        print(\"This is MBBS Stream\")\n",
    "\n",
    "\n",
    "objU = University()\n",
    "objU.__dept__()\n",
    "objU.enggTech()\n",
    "objU.medicalBio()\n",
    "\n",
    "objB = BTech()\n",
    "objB.__dept__()\n",
    "objB.enggTech()\n",
    "\n",
    "objM = MBBS()\n",
    "objM.__dept__()\n",
    "objM.medicalBio()\n",
    "\n",
    "\n"
   ]
  },
  {
   "cell_type": "code",
   "execution_count": 46,
   "metadata": {},
   "outputs": [
    {
     "name": "stdout",
     "output_type": "stream",
     "text": [
      "Starting the Engine of a4 \n"
     ]
    }
   ],
   "source": [
    "# ABC\n",
    "\n",
    "from abc import ABC, abstractmethod\n",
    "\n",
    "class car(ABC):\n",
    "    def __init__(self, brand, model, year):\n",
    "        self.brand= brand\n",
    "        self.model = model\n",
    "        self.year = year\n",
    "        self.engine=True\n",
    "    \n",
    "    def _startCar_(self):\n",
    "        if not self.engine:\n",
    "            print(f\"Starting the Engine of {self.model} \") \n",
    "            self.engine = True\n",
    "\n",
    "objC = car(\"Audi\", \"a4\", 2021)\n",
    "objC.engine = False\n",
    "\n",
    "objC._startCar_()\n"
   ]
  },
  {
   "cell_type": "code",
   "execution_count": null,
   "metadata": {},
   "outputs": [],
   "source": []
  }
 ],
 "metadata": {
  "kernelspec": {
   "display_name": "Python 3",
   "language": "python",
   "name": "python3"
  },
  "language_info": {
   "codemirror_mode": {
    "name": "ipython",
    "version": 3
   },
   "file_extension": ".py",
   "mimetype": "text/x-python",
   "name": "python",
   "nbconvert_exporter": "python",
   "pygments_lexer": "ipython3",
   "version": "3.11.3"
  }
 },
 "nbformat": 4,
 "nbformat_minor": 2
}
