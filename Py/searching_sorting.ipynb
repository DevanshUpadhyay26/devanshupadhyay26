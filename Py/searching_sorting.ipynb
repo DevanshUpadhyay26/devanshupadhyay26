{
 "cells": [
  {
   "cell_type": "code",
   "execution_count": 2,
   "metadata": {},
   "outputs": [
    {
     "name": "stdout",
     "output_type": "stream",
     "text": [
      "6\n"
     ]
    }
   ],
   "source": [
    "# Linear Search\n",
    "def linear_search(list, ele):\n",
    "    for i in range(len(list)):\n",
    "        if list[i] == ele:\n",
    "            return i\n",
    "\n",
    "\n",
    "list = [1,2,3,1,2,3,99,22,33,66]\n",
    "ele = 99        \n",
    "print(linear_search(list, ele))"
   ]
  },
  {
   "cell_type": "code",
   "execution_count": 19,
   "metadata": {},
   "outputs": [
    {
     "name": "stdout",
     "output_type": "stream",
     "text": [
      "8\n"
     ]
    }
   ],
   "source": [
    "# Binary Search\n",
    "\n",
    "def binary_search(list, high, low, target):\n",
    "    if low<=high:\n",
    "        mid = (low+high)//2\n",
    "        if list1[mid] == target:\n",
    "            return mid\n",
    "        elif list[mid]<target:\n",
    "            return binary_search(list, high, mid+1, target)\n",
    "        else:\n",
    "            return binary_search(list, mid-1, low, target)\n",
    "    else:\n",
    "        return -1\n",
    "\n",
    "\n",
    "list1= [9,2,2,3,4,2,1,23,422,232]\n",
    "print(binary_search(sorted(list), len(list1) -1, 0, 422))"
   ]
  },
  {
   "cell_type": "code",
   "execution_count": 20,
   "metadata": {},
   "outputs": [
    {
     "name": "stdout",
     "output_type": "stream",
     "text": [
      "[1, 2, 2, 2, 3, 4, 9, 23, 232, 422]\n"
     ]
    }
   ],
   "source": [
    "# Bubble Sorting\n",
    "\n",
    "\n",
    "def bubble_sort(list1: int):\n",
    "    for i in range(len(list1)):\n",
    "        for j in range(len(list1)-1):\n",
    "            if(list1[j] > list1[j+1]):\n",
    "                temp = list1[j]\n",
    "                list1[j] = list1[j+1]\n",
    "                list1[j+1] = temp\n",
    "    return list1\n",
    "\n",
    "\n",
    "list1= [9,2,2,3,4,2,1,23,422,232]\n",
    "print(bubble_sort(list1))"
   ]
  }
 ],
 "metadata": {
  "kernelspec": {
   "display_name": "Python 3",
   "language": "python",
   "name": "python3"
  },
  "language_info": {
   "codemirror_mode": {
    "name": "ipython",
    "version": 3
   },
   "file_extension": ".py",
   "mimetype": "text/x-python",
   "name": "python",
   "nbconvert_exporter": "python",
   "pygments_lexer": "ipython3",
   "version": "3.11.3"
  }
 },
 "nbformat": 4,
 "nbformat_minor": 2
}
