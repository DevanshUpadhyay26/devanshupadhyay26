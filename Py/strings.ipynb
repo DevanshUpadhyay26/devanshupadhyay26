{
 "cells": [
  {
   "cell_type": "code",
   "execution_count": 2,
   "metadata": {},
   "outputs": [
    {
     "name": "stdout",
     "output_type": "stream",
     "text": [
      "o\n"
     ]
    }
   ],
   "source": [
    "str = \"Hello World\"\n",
    "print(str[4])"
   ]
  },
  {
   "cell_type": "code",
   "execution_count": 3,
   "metadata": {},
   "outputs": [
    {
     "name": "stdout",
     "output_type": "stream",
     "text": [
      "Hello\n",
      "Hello\n",
      "Hlo\n",
      "dlroW olleH\n"
     ]
    }
   ],
   "source": [
    "# #Slicing\n",
    "print(str[0:5]) #Hello \n",
    "print(str[0:-6]) #Hello\n",
    "print(str[0:5:2]) #Hlo\n",
    "print(str[::-1]) #dlroW olleH"
   ]
  },
  {
   "cell_type": "code",
   "execution_count": 4,
   "metadata": {},
   "outputs": [
    {
     "name": "stdout",
     "output_type": "stream",
     "text": [
      "Dev 3\n"
     ]
    }
   ],
   "source": [
    "str1 = \" Dev \"\n",
    "str1 = str1.strip()\n",
    "print(str1, len(str1))"
   ]
  },
  {
   "cell_type": "code",
   "execution_count": 6,
   "metadata": {},
   "outputs": [
    {
     "name": "stdout",
     "output_type": "stream",
     "text": [
      "Length and count\n",
      "11\n",
      "1\n"
     ]
    }
   ],
   "source": [
    "print(\"Length and count\")\n",
    "print (len(str))\n",
    "print(str.count(\"H\"))"
   ]
  },
  {
   "cell_type": "code",
   "execution_count": 7,
   "metadata": {},
   "outputs": [
    {
     "name": "stdout",
     "output_type": "stream",
     "text": [
      "String Manipulation\n",
      "Hello world\n",
      "HELLO WORLD\n",
      "hello world\n",
      "Bonjor World\n"
     ]
    }
   ],
   "source": [
    "print(\"String Manipulation\")\n",
    "print(str.capitalize())\n",
    "print(str.upper())\n",
    "print(str.lower())\n",
    "print(str.replace(\"Hello\" , \"Bonjor\"))"
   ]
  },
  {
   "cell_type": "code",
   "execution_count": 8,
   "metadata": {},
   "outputs": [
    {
     "name": "stdout",
     "output_type": "stream",
     "text": [
      "h-e-l-l-o-w-o-r-l-d-o-f-p-y-t-h-o-n\n"
     ]
    }
   ],
   "source": [
    "sss = \"helloworldofpython\"\n",
    "print(\"-\".join(sss))"
   ]
  },
  {
   "cell_type": "code",
   "execution_count": 9,
   "metadata": {},
   "outputs": [
    {
     "name": "stdout",
     "output_type": "stream",
     "text": [
      "Tevansh Upadhyay\n",
      "8\n",
      "0\n",
      "Devansh UpadhyayPop\n"
     ]
    }
   ],
   "source": [
    "str2 = \"Devansh Upadhyay\"\n",
    "print(str2.replace(\"Devansh\", \"Tevansh\"))\n",
    "print(str2.find(\"U\"))  # Index returns\n",
    "print(str2.count(\"Sohail\")) # counts returns\n",
    "str2 += \"Pop\" #end mein add karna\n",
    "print(str2) "
   ]
  },
  {
   "cell_type": "code",
   "execution_count": 10,
   "metadata": {},
   "outputs": [
    {
     "name": "stdout",
     "output_type": "stream",
     "text": [
      "Boolean Values\n",
      "True\n",
      "False\n",
      "False\n",
      "False\n",
      "False\n",
      "False\n"
     ]
    }
   ],
   "source": [
    "\n",
    "print(\"Boolean Values\")\n",
    "print(str.endswith(\"d\"))\n",
    "print(str.isalpha())\n",
    "print(str.isupper())\n",
    "print(str.islower())\n",
    "print(str.isalnum())\n",
    "print(str.isdigit())"
   ]
  },
  {
   "cell_type": "code",
   "execution_count": 12,
   "metadata": {},
   "outputs": [
    {
     "name": "stdout",
     "output_type": "stream",
     "text": [
      "Monday-Tuesday-Wednesday-Thursday-Friday-Saturday-Sunday\n"
     ]
    }
   ],
   "source": [
    "list1 = ['Monday', 'Tuesday', 'Wednesday', 'Thursday', 'Friday', 'Saturday', 'Sunday']\n",
    "\n",
    "list1 = \"-\".join(list1)\n",
    "print(list1)"
   ]
  },
  {
   "cell_type": "code",
   "execution_count": null,
   "metadata": {},
   "outputs": [],
   "source": []
  }
 ],
 "metadata": {
  "kernelspec": {
   "display_name": "Python 3",
   "language": "python",
   "name": "python3"
  },
  "language_info": {
   "codemirror_mode": {
    "name": "ipython",
    "version": 3
   },
   "file_extension": ".py",
   "mimetype": "text/x-python",
   "name": "python",
   "nbconvert_exporter": "python",
   "pygments_lexer": "ipython3",
   "version": "3.11.3"
  }
 },
 "nbformat": 4,
 "nbformat_minor": 2
}
