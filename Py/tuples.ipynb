{
 "cells": [
  {
   "cell_type": "code",
   "execution_count": 35,
   "metadata": {},
   "outputs": [
    {
     "name": "stdout",
     "output_type": "stream",
     "text": [
      "(9, 2, 3, 4, 5, 32)\n"
     ]
    }
   ],
   "source": [
    "tup = (9,2,3,4,5,32)\n",
    "print(tup)"
   ]
  },
  {
   "cell_type": "code",
   "execution_count": 36,
   "metadata": {},
   "outputs": [
    {
     "data": {
      "text/plain": [
       "72"
      ]
     },
     "execution_count": 36,
     "metadata": {},
     "output_type": "execute_result"
    }
   ],
   "source": [
    "tup.__sizeof__()"
   ]
  },
  {
   "cell_type": "code",
   "execution_count": 37,
   "metadata": {},
   "outputs": [
    {
     "name": "stdout",
     "output_type": "stream",
     "text": [
      "2\n",
      "32\n"
     ]
    }
   ],
   "source": [
    "# maximum and Min of ele in tuples\n",
    "listt = list(sorted(tup))\n",
    "print(listt[0])\n",
    "print(listt[-1])\n",
    "\n",
    "\n",
    "# Bubble Sort Wont be working with tuples\n",
    "# tuples are immutable\n",
    "# for i in range(len(tup)):\n",
    "#     for j in range(len(tup) - i - 1):\n",
    "#         if tup[j] > tup[j+1]:\n",
    "#             temp = tup[j]\n",
    "#             tup[j] = tup[j+1]\n",
    "#             tup[j+1] = temp"
   ]
  },
  {
   "cell_type": "code",
   "execution_count": 50,
   "metadata": {},
   "outputs": [
    {
     "data": {
      "text/plain": [
       "[(1, 1), (2, 8), (3, 27)]"
      ]
     },
     "execution_count": 50,
     "metadata": {},
     "output_type": "execute_result"
    }
   ],
   "source": [
    "#Python program to create a list of tuples from given list having number and its cube in each tuple\n",
    "\n",
    "\n",
    "list1 = [1, 2, 3]\n",
    "\n",
    "res =  [\n",
    "    (val, val**3) \n",
    "    for val in list1]\n",
    "\n",
    "\n",
    "res"
   ]
  },
  {
   "cell_type": "code",
   "execution_count": 59,
   "metadata": {},
   "outputs": [
    {
     "data": {
      "text/plain": [
       "[5, 6, 7, 3, 2, 2]"
      ]
     },
     "execution_count": 59,
     "metadata": {},
     "output_type": "execute_result"
    }
   ],
   "source": [
    "# Python3 code to demonstrate working of \n",
    "# Adding Tuple to List and vice - versa\n",
    "# Using += operator (list + tuple)\n",
    "test_list = [5, 6, 7]\n",
    "test_tuple = (3,2,2)\n",
    "test_list.extend(test_tuple)\n",
    "test_list\n",
    "\n",
    "# # or\n",
    "# test_list+=(test_tuple)\n",
    "# test_list\n",
    " "
   ]
  }
 ],
 "metadata": {
  "kernelspec": {
   "display_name": "Python 3",
   "language": "python",
   "name": "python3"
  },
  "language_info": {
   "codemirror_mode": {
    "name": "ipython",
    "version": 3
   },
   "file_extension": ".py",
   "mimetype": "text/x-python",
   "name": "python",
   "nbconvert_exporter": "python",
   "pygments_lexer": "ipython3",
   "version": "3.11.3"
  }
 },
 "nbformat": 4,
 "nbformat_minor": 2
}
